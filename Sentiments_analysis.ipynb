{
  "nbformat": 4,
  "nbformat_minor": 0,
  "metadata": {
    "colab": {
      "provenance": [],
      "private_outputs": true,
      "mount_file_id": "1YfXNbuJiynghseA95e26wvnhMBNCBe9G",
      "authorship_tag": "ABX9TyPTwqWwMzEbEEEmkFV4zaJZ",
      "include_colab_link": true
    },
    "kernelspec": {
      "name": "python3",
      "display_name": "Python 3"
    },
    "language_info": {
      "name": "python"
    },
    "accelerator": "GPU"
  },
  "cells": [
    {
      "cell_type": "markdown",
      "metadata": {
        "id": "view-in-github",
        "colab_type": "text"
      },
      "source": [
        "<a href=\"https://colab.research.google.com/github/FarhanKhan1/Transformer_NLP_Begginers/blob/main/Sentiments_analysis.ipynb\" target=\"_parent\"><img src=\"https://colab.research.google.com/assets/colab-badge.svg\" alt=\"Open In Colab\"/></a>"
      ]
    },
    {
      "cell_type": "code",
      "execution_count": null,
      "metadata": {
        "id": "cWWE2M2sIHYJ"
      },
      "outputs": [],
      "source": [
        "!pip install transformers"
      ]
    },
    {
      "cell_type": "code",
      "source": [
        "import pandas as pd\n",
        "df = pd.read_csv(\"/content/drive/MyDrive/Colab Notebooks/NLP transformers/Beginners/Tweets.csv\")"
      ],
      "metadata": {
        "id": "t47FKMy-hFUU"
      },
      "execution_count": null,
      "outputs": []
    },
    {
      "cell_type": "code",
      "source": [
        "df.head()"
      ],
      "metadata": {
        "id": "iYTcOTJfiD9K"
      },
      "execution_count": null,
      "outputs": []
    },
    {
      "cell_type": "code",
      "source": [
        "from transformers import pipeline\n",
        "import numpy as np\n",
        "import pandas as pd\n",
        "import seaborn as sn\n",
        "import matplotlib.pyplot as plt\n",
        "from sklearn.metrics import roc_auc_score, f1_score, confusion_matrix\n",
        "from sklearn.model_selection import train_test_split"
      ],
      "metadata": {
        "id": "Bzy_UFDPiFAS"
      },
      "execution_count": null,
      "outputs": []
    },
    {
      "cell_type": "code",
      "source": [
        "classifier = pipeline('sentiment-analysis')"
      ],
      "metadata": {
        "id": "yAcKlyQpjGDs"
      },
      "execution_count": null,
      "outputs": []
    },
    {
      "cell_type": "code",
      "source": [
        "type(classifier)"
      ],
      "metadata": {
        "id": "UO2Nb7LhjwYq"
      },
      "execution_count": null,
      "outputs": []
    },
    {
      "cell_type": "code",
      "source": [
        "classifier(\"I love this movie\")"
      ],
      "metadata": {
        "id": "hgt_neo2j_MB"
      },
      "execution_count": null,
      "outputs": []
    },
    {
      "cell_type": "code",
      "source": [
        "classifier(\"This movie is not that bad\")"
      ],
      "metadata": {
        "id": "laLq-k77kHh7"
      },
      "execution_count": null,
      "outputs": []
    },
    {
      "cell_type": "code",
      "source": [
        "classifier(\"nobody loves this movie\")"
      ],
      "metadata": {
        "id": "PpJBVMbckU9Y"
      },
      "execution_count": null,
      "outputs": []
    },
    {
      "cell_type": "markdown",
      "source": [
        "**Let's pass a list of sentences to the classifier and see what the model is going to do**"
      ],
      "metadata": {
        "id": "2LPUqvtxk6qW"
      }
    },
    {
      "cell_type": "code",
      "source": [
        "classifier([\"I thought i'd love this show.\", \"But it turned out to be the worst show of my life.\"])"
      ],
      "metadata": {
        "id": "vuYxjr0CklsQ"
      },
      "execution_count": null,
      "outputs": []
    },
    {
      "cell_type": "markdown",
      "source": [
        "Now by default, pipelines do not exist on the GPU, which is what we'll need if we want to use these\n"
      ],
      "metadata": {
        "id": "9yR6GFukmL2X"
      }
    },
    {
      "cell_type": "code",
      "source": [
        " import torch"
      ],
      "metadata": {
        "id": "hPcHDyinlhZP"
      },
      "execution_count": null,
      "outputs": []
    },
    {
      "cell_type": "code",
      "source": [
        "torch.cuda.is_available()"
      ],
      "metadata": {
        "id": "FyZDTpQem0j7"
      },
      "execution_count": null,
      "outputs": []
    },
    {
      "cell_type": "code",
      "source": [
        " torch.cuda.current_device()"
      ],
      "metadata": {
        "id": "3D6zUduZm7EC"
      },
      "execution_count": null,
      "outputs": []
    },
    {
      "cell_type": "code",
      "source": [
        "#Let's use GPU for our pipeline\n",
        "classifier = pipeline('sentiment-analysis', device=0)"
      ],
      "metadata": {
        "id": "aa2jkbjyoOHK"
      },
      "execution_count": null,
      "outputs": []
    },
    {
      "cell_type": "code",
      "source": [
        "df.head()"
      ],
      "metadata": {
        "id": "q9FrJe2FoWck"
      },
      "execution_count": null,
      "outputs": []
    },
    {
      "cell_type": "code",
      "source": [
        "df_for_model = df[['airline_sentiment', 'text']]"
      ],
      "metadata": {
        "id": "NVqLSUfYomU3"
      },
      "execution_count": null,
      "outputs": []
    },
    {
      "cell_type": "code",
      "source": [
        "df_for_model.head()"
      ],
      "metadata": {
        "id": "FrmCPHVBpDhu"
      },
      "execution_count": null,
      "outputs": []
    },
    {
      "cell_type": "code",
      "source": [
        "df['airline_sentiment'].hist()"
      ],
      "metadata": {
        "id": "m55WavyhpNHm"
      },
      "execution_count": null,
      "outputs": []
    },
    {
      "cell_type": "code",
      "source": [
        "df_with_two_classes = df_for_model[df_for_model['airline_sentiment'] != 'neutral']"
      ],
      "metadata": {
        "id": "8Ib3n9FLpbDu"
      },
      "execution_count": null,
      "outputs": []
    },
    {
      "cell_type": "code",
      "source": [
        "df_with_two_classes"
      ],
      "metadata": {
        "id": "8KmL_ZdPuUkr"
      },
      "execution_count": null,
      "outputs": []
    },
    {
      "cell_type": "code",
      "source": [
        "target_mapping = {'positive':1, 'negative':0}\n",
        "df_with_two_classes['target'] = df_with_two_classes['airline_sentiment'].map(target_mapping)"
      ],
      "metadata": {
        "id": "ZFHZ9q5yugbq"
      },
      "execution_count": null,
      "outputs": []
    },
    {
      "cell_type": "code",
      "source": [
        "df_with_two_classes.head()"
      ],
      "metadata": {
        "id": "vWjEgghMwBEc"
      },
      "execution_count": null,
      "outputs": []
    },
    {
      "cell_type": "code",
      "source": [
        "text_for_prediction = df_with_two_classes.text.tolist()"
      ],
      "metadata": {
        "id": "kqjZifoCwZL6"
      },
      "execution_count": null,
      "outputs": []
    },
    {
      "cell_type": "code",
      "source": [
        "len(text_for_prediction)"
      ],
      "metadata": {
        "id": "-GvimQ7iwsuB"
      },
      "execution_count": null,
      "outputs": []
    },
    {
      "cell_type": "code",
      "source": [
        "predictions = classifier(text_for_prediction)"
      ],
      "metadata": {
        "id": "zdG2mNjrw7Eh"
      },
      "execution_count": null,
      "outputs": []
    },
    {
      "cell_type": "code",
      "source": [
        "predictions"
      ],
      "metadata": {
        "id": "qIPEUibTxO8I"
      },
      "execution_count": null,
      "outputs": []
    },
    {
      "cell_type": "code",
      "source": [
        "predict = [1 if pre['label'].startswith('P') else 0 for pre in predictions]"
      ],
      "metadata": {
        "id": "6fU1hfwIxxXK"
      },
      "execution_count": null,
      "outputs": []
    },
    {
      "cell_type": "code",
      "source": [
        "predict = np.array(predict)"
      ],
      "metadata": {
        "id": "np0aQvXUy6yp"
      },
      "execution_count": null,
      "outputs": []
    },
    {
      "cell_type": "code",
      "source": [
        "type(predict)"
      ],
      "metadata": {
        "id": "dK3Phhdwy8LI"
      },
      "execution_count": null,
      "outputs": []
    },
    {
      "cell_type": "markdown",
      "source": [
        "**Let's print the accuracy**"
      ],
      "metadata": {
        "id": "dyZq_QDyz5JI"
      }
    },
    {
      "cell_type": "code",
      "source": [
        "print(\"acc: \", np.mean(df_with_two_classes['target'] == predict))"
      ],
      "metadata": {
        "id": "PbAVYtCOzVTH"
      },
      "execution_count": null,
      "outputs": []
    },
    {
      "cell_type": "markdown",
      "source": [
        "**Let's visualize it**"
      ],
      "metadata": {
        "id": "xrpQsGxL0Xz1"
      }
    },
    {
      "cell_type": "code",
      "source": [
        "c_metrix = confusion_matrix(df_with_two_classes['target'], predict, normalize='true')"
      ],
      "metadata": {
        "id": "az4XJ9nr0Tcf"
      },
      "execution_count": null,
      "outputs": []
    },
    {
      "cell_type": "code",
      "source": [
        "c_metrix"
      ],
      "metadata": {
        "id": "JeAe5M9I0yoG"
      },
      "execution_count": null,
      "outputs": []
    },
    {
      "cell_type": "code",
      "source": [
        "import seaborn as sns\n",
        "sns.heatmap(c_metrix, annot=True)"
      ],
      "metadata": {
        "id": "3pJRRcpF0_64"
      },
      "execution_count": null,
      "outputs": []
    },
    {
      "cell_type": "code",
      "source": [
        "f1_score(df_with_two_classes['target'], predict)"
      ],
      "metadata": {
        "id": "7u3hoiNi2Zgr"
      },
      "execution_count": null,
      "outputs": []
    },
    {
      "cell_type": "code",
      "source": [],
      "metadata": {
        "id": "Lcg0CMVC20U8"
      },
      "execution_count": null,
      "outputs": []
    }
  ]
}